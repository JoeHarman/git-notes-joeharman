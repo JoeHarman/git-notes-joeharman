{
 "cells": [
  {
   "cell_type": "markdown",
   "metadata": {},
   "source": [
    "# Power Analysis Script\n",
    "\n",
    "Use this to determine optimum sample size for experiments.\n",
    "\n",
    "Note - you need to understand the expected standard deviation of your results. This can be based on previous data, published datasets, or pilot studies. You also need to have an idea of what the minimum effect you would consider \"Biologically Relevant \" - i.e, what size difference do we actually care about?\n",
    "\n",
    "There are 6 factors that are linked together that determines whether a result is statistically significant:\n",
    "* Difference of biological interest\n",
    "* Standard Deviation\n",
    "* Significance threshold\n",
    "* Power\n",
    "* Sample Size\n",
    "* Alternative Hypothesis (One sided or two sided)\n",
    "\n",
    "If we have knowledge of 5 of these factors, we can determine the value of the 6th (Sample size in most cases)"
   ]
  },
  {
   "cell_type": "code",
   "execution_count": null,
   "metadata": {
    "collapsed": true
   },
   "outputs": [],
   "source": [
    "library(pwr)"
   ]
  },
  {
   "cell_type": "markdown",
   "metadata": {},
   "source": [
    "## Experiment type\n",
    "We first need to understand the experimental design, and the appropriate statistics that will be used at the end. In general the experiment could be:\n",
    "\n",
    "* Comparison between 2 proportions (Fisher's exact test)\n",
    "* Comparison between 2 means (t-test)\n",
    "* Comparison between more than 2 means (ANOVA, multiple hypothesis correction)\n",
    "* Correlation"
   ]
  },
  {
   "cell_type": "code",
   "execution_count": null,
   "metadata": {
    "collapsed": true
   },
   "outputs": [],
   "source": [
    "# Replace NULL with either \"proportions\", \"means\", \"ANOVA\", \"correlation\"\n",
    "\n",
    "experiment.type <- NULL"
   ]
  },
  {
   "cell_type": "markdown",
   "metadata": {},
   "source": [
    "## Power\n",
    "\n",
    "Power in this context is \"The probability of detecting a specified effect at a specified significance level.\" Typical power is around 80-90%. "
   ]
  },
  {
   "cell_type": "code",
   "execution_count": null,
   "metadata": {
    "collapsed": true
   },
   "outputs": [],
   "source": [
    "# Enter value as a decimal fraction - e.g. 0.8\n",
    "\n",
    "power = NULL"
   ]
  },
  {
   "cell_type": "markdown",
   "metadata": {},
   "source": [
    "## Effect Size\n",
    "The effect size is a combination of two factors:\n",
    "* Difference of biological interest\n",
    "* Standard deviation  \n",
    "\n",
    "The exact formula used to determine effect size depends on the type of experiment. The concept behind why this is necessary is that small effects ca only be detected with many samples, but large effects may be detected by fewer samples - the bigger the effect the greater the power and the bigger the variability the smaller the power.\n",
    "\n",
    "The formulae for effect size are known as Cohen's formulae. Substitute the code below where appropriate."
   ]
  },
  {
   "cell_type": "code",
   "execution_count": null,
   "metadata": {
    "collapsed": false
   },
   "outputs": [],
   "source": [
    "# Enter the expected values for the control and experimental groups. \n",
    "# If dealing with proportions, use decimal fractions\n",
    "\n",
    "control <- NULL\n",
    "experiment <- NULL\n",
    "\n",
    "control.SD <- NULL\n",
    "experiment.SD <- NULL\n",
    "\n",
    "if (experiment.type == \"proportions\"){\n",
    "    \n",
    "    # Cohen's h - PROPORTIONS\n",
    "    h <- 2*asin(sqrt(experiment)) - 2*asin(sqrt(control))\n",
    "    \n",
    "} else if (experiment.type == \"means\"){\n",
    "    \n",
    "    # Cohen's d - MEANS\n",
    "    d <- abs(control-experiment) / sqrt(((control.SD*control.SD) + (experiment.SD*experiment.SD))/2)\n",
    "    \n",
    "} else if (experiment.type == \"ANOVA\"){\n",
    "    \n",
    "    # ANOVA - provide a list of expected means and the SD across samples\n",
    "    a.means <- c(\n",
    "        NULL,\n",
    "        NULL,\n",
    "        NULL)\n",
    "    a.SD <- NULL\n",
    "    \n",
    "} else if (experiment.type == \"correlation\"){\n",
    "    \n",
    "    # Cohen's r - CORRELATION - the effect size is the correlation output itself. Use a pilot study or your own expected correlation\n",
    "    r <- NULL\n",
    "    \n",
    "} else{\n",
    "    \n",
    "    print(\"ERROR - incorrect experiment specification\")\n",
    "    \n",
    "}"
   ]
  },
  {
   "cell_type": "markdown",
   "metadata": {},
   "source": [
    "## Significance threshold\n",
    "This is fairly self explanatory. a Threshold of 0.05 implies that there is a 5% chance of this specific test being a false positive. When you perform multiple seperate tests, by probability 5% of the tests will be false positives - in this situation be sure to use ANOVA which accounts for multiple hypothesis testing."
   ]
  },
  {
   "cell_type": "code",
   "execution_count": null,
   "metadata": {
    "collapsed": true
   },
   "outputs": [],
   "source": [
    "# Replace threshold\n",
    "p <- 0.05"
   ]
  },
  {
   "cell_type": "markdown",
   "metadata": {},
   "source": [
    "## Alternative hypothesis\n",
    "Here alternatie hypothesis refers to whether the statistics are to be one tailed or two tailed. \n",
    "\n",
    "Two Tailed tests are the most common, and looks for an effect in either direction - \"Mood effects the appetite of dogs\"  \n",
    "\n",
    "One Tailed tests are rarely justifiable. It halves the p-value generated from two-tailed tests, and unless well justified should be treated with suspicion. It only searches for an effect in a single direction - \"Happy dogs eat more\""
   ]
  },
  {
   "cell_type": "code",
   "execution_count": null,
   "metadata": {
    "collapsed": false
   },
   "outputs": [],
   "source": [
    "# Enter either \"two.sided\", \"less\" or \"greater\"\n",
    "alt.hypothesis <- NULL"
   ]
  },
  {
   "cell_type": "markdown",
   "metadata": {},
   "source": [
    "## Sample size\n",
    "\n",
    "Typically this is the output that we want. On previous experiments we can include our sample sizes and output the statistical power.\n",
    "\n",
    "Sample size factors into the equation through its influence on SEM. Sample size does not effect SD, but greater numbers reduce SEM, which in turn leads to statistical significance."
   ]
  },
  {
   "cell_type": "code",
   "execution_count": null,
   "metadata": {
    "collapsed": true
   },
   "outputs": [],
   "source": [
    "SS <- 12"
   ]
  },
  {
   "cell_type": "markdown",
   "metadata": {},
   "source": [
    "## Running the function\n",
    "Before running the function make sure the above variables have been assigned, but leave one variable as NULL - the variable of interest (Most likely sample size). The function below will spit out parameters of the statistical test, including the variable of interest.\n",
    "\n",
    "NOTE - ANOVA.test does not account for post-hoc comparisons. It only accounts for default ANOVA significance detection (i.e there is a difference somewhere between these groups)."
   ]
  },
  {
   "cell_type": "code",
   "execution_count": null,
   "metadata": {
    "collapsed": false
   },
   "outputs": [],
   "source": [
    "if (experiment.type == \"proportions\"){\n",
    "    \n",
    "    pwr.2p.test(h = h, n = SS, sig.level = p, power = power, alternative = alt.hypothesis)\n",
    "    \n",
    "} else if (experiment.type == \"means\"){\n",
    "    \n",
    "    pwr.t.test(n = SS, d = d, sig.level = p, power = power, alternative = alt.hypothesis)\n",
    "    \n",
    "} else if (experiment.type == \"ANOVA\"){\n",
    "    \n",
    "    power.anova.test(n = SS, groups = length(a.means), sig.level = p, between.var = var(a.means), within.var = a.SD*a.SD, power = power)\n",
    "    \n",
    "} else if (experiment.type == \"correlation\"){\n",
    "    \n",
    "    pwr.r.test(n = SS, r = r, sig.level = p, power = power, alternative = alt.hypothesis)\n",
    "    \n",
    "} else {\n",
    "    print(\"ERROR - incorrect experiment specification\")\n",
    "}"
   ]
  },
  {
   "cell_type": "code",
   "execution_count": null,
   "metadata": {
    "collapsed": false
   },
   "outputs": [],
   "source": []
  },
  {
   "cell_type": "code",
   "execution_count": null,
   "metadata": {
    "collapsed": true
   },
   "outputs": [],
   "source": []
  }
 ],
 "metadata": {
  "kernelspec": {
   "display_name": "R",
   "language": "R",
   "name": "ir"
  },
  "language_info": {
   "codemirror_mode": "r",
   "file_extension": ".r",
   "mimetype": "text/x-r-source",
   "name": "R",
   "pygments_lexer": "r",
   "version": "3.3.1"
  }
 },
 "nbformat": 4,
 "nbformat_minor": 0
}
